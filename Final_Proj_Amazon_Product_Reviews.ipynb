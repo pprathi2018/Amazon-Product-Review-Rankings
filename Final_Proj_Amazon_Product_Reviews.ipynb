{
  "nbformat": 4,
  "nbformat_minor": 0,
  "metadata": {
    "colab": {
      "provenance": [],
      "include_colab_link": true
    },
    "kernelspec": {
      "name": "python3",
      "display_name": "Python 3"
    },
    "language_info": {
      "name": "python"
    }
  },
  "cells": [
    {
      "cell_type": "markdown",
      "metadata": {
        "id": "view-in-github",
        "colab_type": "text"
      },
      "source": [
        "<a href=\"https://colab.research.google.com/github/pprathi2018/Amazon-Product-Review-Rankings/blob/main/Final_Proj_Amazon_Product_Reviews.ipynb\" target=\"_parent\"><img src=\"https://colab.research.google.com/assets/colab-badge.svg\" alt=\"Open In Colab\"/></a>"
      ]
    },
    {
      "cell_type": "markdown",
      "source": [
        "Completed:\n",
        "\n",
        "- pre-processing: tokenization, removing punctuation, lowercase, removing stop words, stemming\n",
        "- query likelihood model with laplace smoothing\n",
        "- query likelihood model with linear interpolation\n",
        "- word embedding model with cosine similarity of vectors\n",
        "- bigram model\n",
        "- comparing weightage of title vs body\n",
        "- evaluation with MAP\n",
        "- results"
      ],
      "metadata": {
        "id": "1qG6baUeN8zV"
      }
    },
    {
      "cell_type": "markdown",
      "source": [
        "Load the data from https://nijianmo.github.io/amazon/index.html into a dataframe. We selected the AMAZON FASHION reviews dataset with over 880000 reviews to process. Perform some pre-processing to replace NaN values with something easier to handle later."
      ],
      "metadata": {
        "id": "kGqXir70KmXd"
      }
    },
    {
      "cell_type": "code",
      "source": [
        "from google.colab import drive\n",
        "drive.mount('/content/drive')"
      ],
      "metadata": {
        "colab": {
          "base_uri": "https://localhost:8080/"
        },
        "id": "9rVoKOJJGqlq",
        "outputId": "8d6eaa9c-56d7-484b-e7bc-255e2e1bf800"
      },
      "execution_count": 179,
      "outputs": [
        {
          "output_type": "stream",
          "name": "stdout",
          "text": [
            "Drive already mounted at /content/drive; to attempt to forcibly remount, call drive.mount(\"/content/drive\", force_remount=True).\n"
          ]
        }
      ]
    },
    {
      "cell_type": "code",
      "source": [
        "import pandas as pd\n",
        "import gzip\n",
        "import json\n",
        "\n",
        "def parse(path):\n",
        "  g = gzip.open(path, 'rb')\n",
        "  for l in g:\n",
        "    yield json.loads(l)\n",
        "\n",
        "def getDF(path):\n",
        "  i = 0\n",
        "  df = {}\n",
        "  for d in parse(path):\n",
        "    df[i] = d\n",
        "    i += 1\n",
        "  return pd.DataFrame.from_dict(df, orient='index')\n",
        "\n",
        "df = getDF('/content/drive/MyDrive/Information Retrieval/AMAZON_FASHION.json.gz')"
      ],
      "metadata": {
        "id": "IAnc_vycNz0C"
      },
      "execution_count": 180,
      "outputs": []
    },
    {
      "cell_type": "code",
      "source": [
        "df['reviewText'] = df['reviewText'].fillna(\"\")\n",
        "df['summary'] = df['summary'].fillna(\"\")\n",
        "df['vote'] = df['vote'].fillna(0)\n",
        "df = df.reset_index()"
      ],
      "metadata": {
        "id": "Q352H6k0NZ69"
      },
      "execution_count": 181,
      "outputs": []
    },
    {
      "cell_type": "code",
      "source": [
        "df.head()"
      ],
      "metadata": {
        "colab": {
          "base_uri": "https://localhost:8080/",
          "height": 206
        },
        "id": "8mJjAa-ygGLJ",
        "outputId": "25ddbdcf-d9b6-4999-c365-f01e1c30e196"
      },
      "execution_count": 182,
      "outputs": [
        {
          "output_type": "execute_result",
          "data": {
            "text/plain": [
              "   index  overall  verified   reviewTime      reviewerID        asin  \\\n",
              "0      0      5.0      True  10 20, 2014  A1D4G1SNUZWQOT  7106116521   \n",
              "1      1      2.0      True  09 28, 2014  A3DDWDH9PX2YX2  7106116521   \n",
              "2      2      4.0     False  08 25, 2014  A2MWC41EW7XL15  7106116521   \n",
              "3      3      2.0      True  08 24, 2014  A2UH2QQ275NV45  7106116521   \n",
              "4      4      3.0     False  07 27, 2014   A89F3LQADZBS5  7106116521   \n",
              "\n",
              "   reviewerName                                         reviewText  \\\n",
              "0         Tracy                             Exactly what I needed.   \n",
              "1     Sonja Lau  I agree with the other review, the opening is ...   \n",
              "2      Kathleen  Love these... I am going to order another pack...   \n",
              "3   Jodi Stoner                                too tiny an opening   \n",
              "4  Alexander D.                                               Okay   \n",
              "\n",
              "                                             summary  unixReviewTime vote  \\\n",
              "0                             perfect replacements!!      1413763200    0   \n",
              "1  I agree with the other review, the opening is ...      1411862400    3   \n",
              "2                                My New 'Friends' !!      1408924800    0   \n",
              "3                                          Two Stars      1408838400    0   \n",
              "4                                        Three Stars      1406419200    0   \n",
              "\n",
              "  style image  \n",
              "0   NaN   NaN  \n",
              "1   NaN   NaN  \n",
              "2   NaN   NaN  \n",
              "3   NaN   NaN  \n",
              "4   NaN   NaN  "
            ],
            "text/html": [
              "\n",
              "  <div id=\"df-8157bad5-c599-4b69-92d7-795248a911d6\">\n",
              "    <div class=\"colab-df-container\">\n",
              "      <div>\n",
              "<style scoped>\n",
              "    .dataframe tbody tr th:only-of-type {\n",
              "        vertical-align: middle;\n",
              "    }\n",
              "\n",
              "    .dataframe tbody tr th {\n",
              "        vertical-align: top;\n",
              "    }\n",
              "\n",
              "    .dataframe thead th {\n",
              "        text-align: right;\n",
              "    }\n",
              "</style>\n",
              "<table border=\"1\" class=\"dataframe\">\n",
              "  <thead>\n",
              "    <tr style=\"text-align: right;\">\n",
              "      <th></th>\n",
              "      <th>index</th>\n",
              "      <th>overall</th>\n",
              "      <th>verified</th>\n",
              "      <th>reviewTime</th>\n",
              "      <th>reviewerID</th>\n",
              "      <th>asin</th>\n",
              "      <th>reviewerName</th>\n",
              "      <th>reviewText</th>\n",
              "      <th>summary</th>\n",
              "      <th>unixReviewTime</th>\n",
              "      <th>vote</th>\n",
              "      <th>style</th>\n",
              "      <th>image</th>\n",
              "    </tr>\n",
              "  </thead>\n",
              "  <tbody>\n",
              "    <tr>\n",
              "      <th>0</th>\n",
              "      <td>0</td>\n",
              "      <td>5.0</td>\n",
              "      <td>True</td>\n",
              "      <td>10 20, 2014</td>\n",
              "      <td>A1D4G1SNUZWQOT</td>\n",
              "      <td>7106116521</td>\n",
              "      <td>Tracy</td>\n",
              "      <td>Exactly what I needed.</td>\n",
              "      <td>perfect replacements!!</td>\n",
              "      <td>1413763200</td>\n",
              "      <td>0</td>\n",
              "      <td>NaN</td>\n",
              "      <td>NaN</td>\n",
              "    </tr>\n",
              "    <tr>\n",
              "      <th>1</th>\n",
              "      <td>1</td>\n",
              "      <td>2.0</td>\n",
              "      <td>True</td>\n",
              "      <td>09 28, 2014</td>\n",
              "      <td>A3DDWDH9PX2YX2</td>\n",
              "      <td>7106116521</td>\n",
              "      <td>Sonja Lau</td>\n",
              "      <td>I agree with the other review, the opening is ...</td>\n",
              "      <td>I agree with the other review, the opening is ...</td>\n",
              "      <td>1411862400</td>\n",
              "      <td>3</td>\n",
              "      <td>NaN</td>\n",
              "      <td>NaN</td>\n",
              "    </tr>\n",
              "    <tr>\n",
              "      <th>2</th>\n",
              "      <td>2</td>\n",
              "      <td>4.0</td>\n",
              "      <td>False</td>\n",
              "      <td>08 25, 2014</td>\n",
              "      <td>A2MWC41EW7XL15</td>\n",
              "      <td>7106116521</td>\n",
              "      <td>Kathleen</td>\n",
              "      <td>Love these... I am going to order another pack...</td>\n",
              "      <td>My New 'Friends' !!</td>\n",
              "      <td>1408924800</td>\n",
              "      <td>0</td>\n",
              "      <td>NaN</td>\n",
              "      <td>NaN</td>\n",
              "    </tr>\n",
              "    <tr>\n",
              "      <th>3</th>\n",
              "      <td>3</td>\n",
              "      <td>2.0</td>\n",
              "      <td>True</td>\n",
              "      <td>08 24, 2014</td>\n",
              "      <td>A2UH2QQ275NV45</td>\n",
              "      <td>7106116521</td>\n",
              "      <td>Jodi Stoner</td>\n",
              "      <td>too tiny an opening</td>\n",
              "      <td>Two Stars</td>\n",
              "      <td>1408838400</td>\n",
              "      <td>0</td>\n",
              "      <td>NaN</td>\n",
              "      <td>NaN</td>\n",
              "    </tr>\n",
              "    <tr>\n",
              "      <th>4</th>\n",
              "      <td>4</td>\n",
              "      <td>3.0</td>\n",
              "      <td>False</td>\n",
              "      <td>07 27, 2014</td>\n",
              "      <td>A89F3LQADZBS5</td>\n",
              "      <td>7106116521</td>\n",
              "      <td>Alexander D.</td>\n",
              "      <td>Okay</td>\n",
              "      <td>Three Stars</td>\n",
              "      <td>1406419200</td>\n",
              "      <td>0</td>\n",
              "      <td>NaN</td>\n",
              "      <td>NaN</td>\n",
              "    </tr>\n",
              "  </tbody>\n",
              "</table>\n",
              "</div>\n",
              "      <button class=\"colab-df-convert\" onclick=\"convertToInteractive('df-8157bad5-c599-4b69-92d7-795248a911d6')\"\n",
              "              title=\"Convert this dataframe to an interactive table.\"\n",
              "              style=\"display:none;\">\n",
              "        \n",
              "  <svg xmlns=\"http://www.w3.org/2000/svg\" height=\"24px\"viewBox=\"0 0 24 24\"\n",
              "       width=\"24px\">\n",
              "    <path d=\"M0 0h24v24H0V0z\" fill=\"none\"/>\n",
              "    <path d=\"M18.56 5.44l.94 2.06.94-2.06 2.06-.94-2.06-.94-.94-2.06-.94 2.06-2.06.94zm-11 1L8.5 8.5l.94-2.06 2.06-.94-2.06-.94L8.5 2.5l-.94 2.06-2.06.94zm10 10l.94 2.06.94-2.06 2.06-.94-2.06-.94-.94-2.06-.94 2.06-2.06.94z\"/><path d=\"M17.41 7.96l-1.37-1.37c-.4-.4-.92-.59-1.43-.59-.52 0-1.04.2-1.43.59L10.3 9.45l-7.72 7.72c-.78.78-.78 2.05 0 2.83L4 21.41c.39.39.9.59 1.41.59.51 0 1.02-.2 1.41-.59l7.78-7.78 2.81-2.81c.8-.78.8-2.07 0-2.86zM5.41 20L4 18.59l7.72-7.72 1.47 1.35L5.41 20z\"/>\n",
              "  </svg>\n",
              "      </button>\n",
              "      \n",
              "  <style>\n",
              "    .colab-df-container {\n",
              "      display:flex;\n",
              "      flex-wrap:wrap;\n",
              "      gap: 12px;\n",
              "    }\n",
              "\n",
              "    .colab-df-convert {\n",
              "      background-color: #E8F0FE;\n",
              "      border: none;\n",
              "      border-radius: 50%;\n",
              "      cursor: pointer;\n",
              "      display: none;\n",
              "      fill: #1967D2;\n",
              "      height: 32px;\n",
              "      padding: 0 0 0 0;\n",
              "      width: 32px;\n",
              "    }\n",
              "\n",
              "    .colab-df-convert:hover {\n",
              "      background-color: #E2EBFA;\n",
              "      box-shadow: 0px 1px 2px rgba(60, 64, 67, 0.3), 0px 1px 3px 1px rgba(60, 64, 67, 0.15);\n",
              "      fill: #174EA6;\n",
              "    }\n",
              "\n",
              "    [theme=dark] .colab-df-convert {\n",
              "      background-color: #3B4455;\n",
              "      fill: #D2E3FC;\n",
              "    }\n",
              "\n",
              "    [theme=dark] .colab-df-convert:hover {\n",
              "      background-color: #434B5C;\n",
              "      box-shadow: 0px 1px 3px 1px rgba(0, 0, 0, 0.15);\n",
              "      filter: drop-shadow(0px 1px 2px rgba(0, 0, 0, 0.3));\n",
              "      fill: #FFFFFF;\n",
              "    }\n",
              "  </style>\n",
              "\n",
              "      <script>\n",
              "        const buttonEl =\n",
              "          document.querySelector('#df-8157bad5-c599-4b69-92d7-795248a911d6 button.colab-df-convert');\n",
              "        buttonEl.style.display =\n",
              "          google.colab.kernel.accessAllowed ? 'block' : 'none';\n",
              "\n",
              "        async function convertToInteractive(key) {\n",
              "          const element = document.querySelector('#df-8157bad5-c599-4b69-92d7-795248a911d6');\n",
              "          const dataTable =\n",
              "            await google.colab.kernel.invokeFunction('convertToInteractive',\n",
              "                                                     [key], {});\n",
              "          if (!dataTable) return;\n",
              "\n",
              "          const docLinkHtml = 'Like what you see? Visit the ' +\n",
              "            '<a target=\"_blank\" href=https://colab.research.google.com/notebooks/data_table.ipynb>data table notebook</a>'\n",
              "            + ' to learn more about interactive tables.';\n",
              "          element.innerHTML = '';\n",
              "          dataTable['output_type'] = 'display_data';\n",
              "          await google.colab.output.renderOutput(dataTable, element);\n",
              "          const docLink = document.createElement('div');\n",
              "          docLink.innerHTML = docLinkHtml;\n",
              "          element.appendChild(docLink);\n",
              "        }\n",
              "      </script>\n",
              "    </div>\n",
              "  </div>\n",
              "  "
            ]
          },
          "metadata": {},
          "execution_count": 182
        }
      ]
    },
    {
      "cell_type": "markdown",
      "source": [
        "For 3 unique products, write 3 different queries and annotate the results for all the reviews of that product"
      ],
      "metadata": {
        "id": "tlrTUjyu3BWA"
      }
    },
    {
      "cell_type": "code",
      "source": [
        "# Product ID: B0097AJS2U\n",
        "\n",
        "p1_id = [v for v in df.loc[df['asin'] == 'B0097AJS2U', 'index']]\n",
        "\n",
        "# Do the glasses fit well?\n",
        "relevance_q1_1 = [0, 0, 0, 1, 0, 0, 0, 0, 0, 1, 0, 0, 0, 0, 0, 0, 1, 0, 0, 1, 1, 0, 0, 1, 0, 0, 0, 1, 0, 0, 1, 0, 0, 0, 0, 1, 0]\n",
        "answers_q1_1 = {p1_id[i]:relevance_q1_1[i] for i in range(len(p1_id))}\n",
        "\n",
        "# Are these glasses worth the money?\n",
        "# relevance_array2 = [0, 1, 0, 0, 0, 1, 0, 0, 0, 0, 0, 1, 0, 0, 0, 1, 0, 0, 0, 0, 0, 0, 0, 0, 0, 0, 1, 0, 0, 0, 0, 0, 0, 0, 0, 0, 0]\n",
        "\n",
        "# Are these glasses stylish?\n",
        "relevance_q1_2 = [0, 1, 1, 1, 1, 0, 0, 1, 0, 0, 0, 1, 0, 0, 0, 1, 1, 1, 0, 0, 0, 0, 0, 1, 1, 0, 0, 0, 0, 0, 0, 0, 0, 1, 0, 1, 0 ]\n",
        "answers_q1_2 = {p1_id[i]:relevance_q1_2[i] for i in range(len(p1_id))}\n",
        "\n",
        "\n",
        "# Product ID: B00IOHDIV0\n",
        "\n",
        "p2_id = [v for v in df.loc[df['asin'] == 'B00IOHDIVO', 'index']]\n",
        "\n",
        "# Is it big enough to carry a lot of stuff?\n",
        "relevance_q2_1 = [0, 0, 0, 0, 0, 1, 0, 0, 1, 0, 1, 1, 0, 0, 1, 1, 1, 1, 1, 1, 1, 1, 1, 0, 1, 0, 0, 1, 0, 0, 1, 0, 0, 0, 1, 1, 0, 0]\n",
        "answers_q2_1 = {p2_id[i]:relevance_q2_1[i] for i in range(len(p2_id))}\n",
        "\n",
        "# Is the material good quality?\n",
        "relevance_q2_2 = [1, 0, 0, 1, 0, 1, 1, 0, 0, 1, 0, 0, 1, 1, 1, 1, 1, 1, 0, 1, 1, 1, 1, 1, 1, 1, 0, 1, 1, 0, 0, 0, 1, 0, 1, 1, 1, 1]\n",
        "answers_q2_2 = {p2_id[i]:relevance_q2_2[i] for i in range(len(p2_id))}\n",
        "\n",
        "\n",
        "# Product ID: B00QV3OFMY\n",
        "\n",
        "p3_id = [v for v in df.loc[df['asin'] == 'B00QV3OFMY', 'index']]\n",
        "\n",
        "# Does it rust or change color?\n",
        "relevance_q3_1 = [0, 0, 0, 0, 0, 0, 0, 0, 0, 1, 0, 0, 0, 0, 0, 0, 0, 0, 0, 1, 0, 0, 0, 0, 0, 0, 0, 0, 1, 1, 0, 0, 1, 0, 0, 1, 0, 1, 1, 1, 0, 0, 0]\n",
        "answers_q3_1 = {p3_id[i]:relevance_q3_1[i] for i in range(len(p3_id))}\n",
        "\n",
        "# Does it last long without damage?\n",
        "relevance_q3_2 = [0, 0, 0, 0, 0, 0, 0, 0, 1, 1, 0, 0, 0, 0, 0, 0, 0, 0, 1, 1, 0, 0, 1, 0, 0, 0, 0, 0, 1, 0, 0, 0, 1, 0, 0, 1, 0, 1, 1, 1, 0, 0, 0]\n",
        "answers_q3_2 = {p3_id[i]:relevance_q3_2[i] for i in range(len(p3_id))}"
      ],
      "metadata": {
        "id": "jvr4A03SLI5U"
      },
      "execution_count": 183,
      "outputs": []
    },
    {
      "cell_type": "code",
      "source": [
        "from collections import Counter\n",
        "import string\n",
        "import nltk\n",
        "nltk.download('stopwords')\n",
        "from nltk.corpus import stopwords\n",
        "from nltk.stem import PorterStemmer\n",
        "\n",
        "stopwords_dict = Counter(stopwords.words('english'))\n",
        "ps = PorterStemmer()"
      ],
      "metadata": {
        "colab": {
          "base_uri": "https://localhost:8080/"
        },
        "id": "KhQDfZoZi0kN",
        "outputId": "fc6c86a3-5579-447e-d634-a1154da90e8e"
      },
      "execution_count": 184,
      "outputs": [
        {
          "output_type": "stream",
          "name": "stderr",
          "text": [
            "[nltk_data] Downloading package stopwords to /root/nltk_data...\n",
            "[nltk_data]   Package stopwords is already up-to-date!\n"
          ]
        }
      ]
    },
    {
      "cell_type": "code",
      "source": [
        "# Pre-processing of both query and reviews \n",
        "def preprocess_doc(document):\n",
        "  # remove capitalization and punctuation\n",
        "  document = document.lower().translate(str.maketrans('', '', string.punctuation))\n",
        "\n",
        "  # removing stopwords\n",
        "  document_split = [word for word in document.split() if word not in stopwords_dict]\n",
        "\n",
        "  # remove stopwords and stemming\n",
        "  # document_split = [ps.stem(word) for word in document.split() if word not in stopwords_dict]\n",
        "\n",
        "  # stemming\n",
        "  # document_split = [ps.stem(word) for word in document.split()]\n",
        "\n",
        "  # return document\n",
        "  return document_split\n",
        "\n",
        "# Create the bag of words for the document\n",
        "def count_terms(document):\n",
        "  return Counter(preprocess_doc(document))"
      ],
      "metadata": {
        "id": "xCXcOBN4spom"
      },
      "execution_count": 185,
      "outputs": []
    },
    {
      "cell_type": "code",
      "source": [
        "# Convert the relevant information acquired from the dataset in a dictionary that is easier to manipulate\n",
        "# The final structure look something like:\n",
        "# product_id:\n",
        "#   - review_id:\n",
        "#     - text: bag of words\n",
        "#     - summary: bag of words\n",
        "#     - time: time\n",
        "#     - vote: number of helpful votes\n",
        "\n",
        "def store_metadata(df_group):\n",
        "  ids = df_group['index']\n",
        "  text = df_group['reviewText']\n",
        "  summary = df_group['summary']\n",
        "  time = df_group['unixReviewTime']\n",
        "  vote = df_group['vote']\n",
        "\n",
        "  return {id: {'text': count_terms(text[id]), 'summary': count_terms(summary[id]), 'time': time[id], 'vote': vote[id]} for id in ids}"
      ],
      "metadata": {
        "id": "BGZs8HMW7OKj"
      },
      "execution_count": 186,
      "outputs": []
    },
    {
      "cell_type": "code",
      "source": [
        "bag_of_words = df.reset_index().groupby('asin').apply(store_metadata).to_dict()"
      ],
      "metadata": {
        "id": "FZ0QKvvo9Vkg"
      },
      "execution_count": 187,
      "outputs": []
    },
    {
      "cell_type": "code",
      "source": [
        "len(bag_of_words)"
      ],
      "metadata": {
        "colab": {
          "base_uri": "https://localhost:8080/"
        },
        "id": "lyZVm_QuvS_I",
        "outputId": "05475043-17e4-4fc1-eca3-79fc8de8df24"
      },
      "execution_count": 188,
      "outputs": [
        {
          "output_type": "execute_result",
          "data": {
            "text/plain": [
              "186189"
            ]
          },
          "metadata": {},
          "execution_count": 188
        }
      ]
    },
    {
      "cell_type": "code",
      "source": [
        "# example\n",
        "bag_of_words['B0097AJS2U'][94073]"
      ],
      "metadata": {
        "colab": {
          "base_uri": "https://localhost:8080/"
        },
        "id": "mTlukAqSRcyo",
        "outputId": "79a84c14-3ca9-4221-c23e-6ea293dfff53"
      },
      "execution_count": 189,
      "outputs": [
        {
          "output_type": "execute_result",
          "data": {
            "text/plain": [
              "{'text': Counter({'awesome': 1,\n",
              "          'glasss': 1,\n",
              "          'bought': 1,\n",
              "          '2': 1,\n",
              "          'pairs': 1,\n",
              "          'black': 1,\n",
              "          'one': 1,\n",
              "          'brown': 1}),\n",
              " 'summary': Counter({'awesome': 1}),\n",
              " 'time': 1406678400,\n",
              " 'vote': 0}"
            ]
          },
          "metadata": {},
          "execution_count": 189
        }
      ]
    },
    {
      "cell_type": "code",
      "source": [
        "def query_likelihood_laplace(product_id, review_id, section, term, V):\n",
        "  \n",
        "  n = bag_of_words[product_id][review_id][section][term] + 1\n",
        "  d = sum(bag_of_words[product_id][review_id][section].values()) + V\n",
        "  return n / d"
      ],
      "metadata": {
        "id": "I71_RiTShmjF"
      },
      "execution_count": 190,
      "outputs": []
    },
    {
      "cell_type": "code",
      "source": [
        "# MODEL 1\n",
        "# Based on query likelihood model with laplace smoothing  \n",
        "\n",
        "# Iterate through and score the reviews of the given product\n",
        "# Return the top results \n",
        "def search_reviews_laplace(product_id, query, num_results=10, summary_weight = 0):\n",
        "  results = Counter()\n",
        "  query_term_count = count_terms(query)\n",
        "\n",
        "  V = len(set([term for i in bag_of_words[product_id].keys()\n",
        "   for term in bag_of_words[product_id][i]['summary'] + bag_of_words[product_id][i]['text']]))\n",
        "\n",
        "  product_reviews = bag_of_words[product_id]\n",
        "  for review_id in product_reviews:\n",
        "\n",
        "    score = 0\n",
        "    for term in query_term_count:\n",
        "      score += ((1 - summary_weight) * (query_term_count[term] * query_likelihood_laplace(product_id, review_id, 'text', term, V)))\n",
        "      score += ((summary_weight) * (query_term_count[term] * query_likelihood_laplace(product_id, review_id, 'summary', term, V)))\n",
        "\n",
        "    results[review_id] = score\n",
        "    \n",
        "  return results.most_common(num_results)"
      ],
      "metadata": {
        "id": "6y5Kwi1tC-gW"
      },
      "execution_count": 191,
      "outputs": []
    },
    {
      "cell_type": "code",
      "source": [
        "# MODEL 2\n",
        "# Based on query likelihood model using linear interpolation smoothing\n",
        "# Considers both term frequency and inverse document frequency \n",
        "\n",
        "def query_likelihood_model(product_id, query, num_results=10, summary_weight = 0):\n",
        "  smoothing_param=0.5\n",
        "  results = Counter()\n",
        "  query_term_count = count_terms(query)\n",
        "\n",
        "  product_reviews = bag_of_words[product_id]\n",
        "\n",
        "  collection_count_text = 0\n",
        "  collection_count_summary = 0\n",
        "  for x in product_reviews:\n",
        "    collection_count_text += sum(product_reviews[x]['text'].values())\n",
        "    collection_count_summary += sum(product_reviews[x]['summary'].values())\n",
        "\n",
        "  collection_query_term_count_text = Counter()\n",
        "  collection_query_term_count_summary = Counter()\n",
        "  for term in query_term_count:\n",
        "    collection_term_frequency_text = 0\n",
        "    collection_term_frequency_summary = 0\n",
        "    for x in product_reviews:\n",
        "      if term in product_reviews[x]['text']:\n",
        "        collection_term_frequency_text += product_reviews[x]['text'][term]\n",
        "      if term in product_reviews[x]['summary']:\n",
        "        collection_term_frequency_summary += product_reviews[x]['summary'][term]\n",
        "    collection_query_term_count_text[term] = (collection_term_frequency_text / collection_count_text)\n",
        "    collection_query_term_count_summary[term] = (collection_term_frequency_summary / collection_count_summary)\n",
        "\n",
        "  for review_id in product_reviews:\n",
        "    text_score = 1\n",
        "    summary_score = 1\n",
        "\n",
        "    doc_count_text = sum(product_reviews[review_id]['text'].values())\n",
        "    doc_count_summary = sum(product_reviews[review_id]['summary'].values())\n",
        "    for term in query_term_count:\n",
        "      doc_term_count_text = product_reviews[review_id]['text'][term] if term in product_reviews[review_id]['text'] else 0\n",
        "      doc_term_count_summary = product_reviews[review_id]['summary'][term] if term in product_reviews[review_id]['summary'] else 0\n",
        "\n",
        "      text_score *= (((smoothing_param * (doc_term_count_text / doc_count_text)) + ((1 - smoothing_param) * collection_query_term_count_text[term])) ** query_term_count[term])\n",
        "      summary_score *= (((smoothing_param * (doc_term_count_summary / doc_count_summary)) + ((1 - smoothing_param) * collection_query_term_count_summary[term])) ** query_term_count[term])\n",
        "\n",
        "    score = ((1 - summary_weight) * text_score) + (summary_weight * summary_score)\n",
        "    results[review_id] = score\n",
        "  \n",
        "  return results.most_common(num_results)\n",
        "    \n"
      ],
      "metadata": {
        "id": "CpALHV9WWsgc"
      },
      "execution_count": 192,
      "outputs": []
    },
    {
      "cell_type": "code",
      "source": [
        "# Sample results\n",
        "search_reviews_laplace('B0097AJS2U', \"Do the glasses fit well?\")"
      ],
      "metadata": {
        "colab": {
          "base_uri": "https://localhost:8080/"
        },
        "id": "ncar__3ILQG1",
        "outputId": "e2a3d899-8102-4b9a-fa0a-145ae292515a"
      },
      "execution_count": 193,
      "outputs": [
        {
          "output_type": "execute_result",
          "data": {
            "text/plain": [
              "[(94074, 0.03333333333333334),\n",
              " (434957, 0.02777777777777778),\n",
              " (94093, 0.027472527472527472),\n",
              " (94090, 0.026881720430107527),\n",
              " (434966, 0.02247191011235955),\n",
              " (94091, 0.022099447513812154),\n",
              " (434965, 0.022099447513812154),\n",
              " (94080, 0.02197802197802198),\n",
              " (434960, 0.02197802197802198),\n",
              " (94096, 0.02185792349726776)]"
            ]
          },
          "metadata": {},
          "execution_count": 193
        }
      ]
    },
    {
      "cell_type": "code",
      "source": [
        "# Sample results\n",
        "query_likelihood_model('B0097AJS2U', \"Do the glasses fit well?\")"
      ],
      "metadata": {
        "colab": {
          "base_uri": "https://localhost:8080/"
        },
        "id": "W7dwj5QfebcE",
        "outputId": "63d472d0-b88b-423b-c46d-32f1abb039e1"
      },
      "execution_count": 194,
      "outputs": [
        {
          "output_type": "execute_result",
          "data": {
            "text/plain": [
              "[(434957, 0.0001657508980666387),\n",
              " (94093, 8.13710728955696e-05),\n",
              " (94090, 3.519827077919216e-05),\n",
              " (434966, 1.9691392423008617e-05),\n",
              " (434960, 1.605128013282469e-05),\n",
              " (94096, 1.3971215967005303e-05),\n",
              " (94099, 1.3971215967005303e-05),\n",
              " (94074, 1.2807927486726555e-05),\n",
              " (94091, 8.771055552456837e-06),\n",
              " (434965, 8.771055552456837e-06)]"
            ]
          },
          "metadata": {},
          "execution_count": 194
        }
      ]
    },
    {
      "cell_type": "code",
      "source": [
        "# Sample results \n",
        "i = 0\n",
        "for (k,v) in query_likelihood_model('B0097AJS2U', \"Do the glasses fit well?\"):\n",
        "  i += 1\n",
        "  print (f\"Rank {i}\")\n",
        "  print(df.iloc[k]['reviewText'])\n",
        "  print('\\n')"
      ],
      "metadata": {
        "colab": {
          "base_uri": "https://localhost:8080/"
        },
        "id": "8vrHNxEWhQXC",
        "outputId": "5fa0c5a8-e9bc-4fcc-d79d-7fa1cdd71132"
      },
      "execution_count": 195,
      "outputs": [
        {
          "output_type": "stream",
          "name": "stdout",
          "text": [
            "Rank 1\n",
            "Wished they fit over glasses, other than that ok.\n",
            "\n",
            "\n",
            "Rank 2\n",
            "Love these glasses, fits great, very well made\n",
            "\n",
            "\n",
            "Rank 3\n",
            "Love these glasses! So comfortable, well made and so beautiful! I have gotten several complements! I so recommend these!\n",
            "\n",
            "\n",
            "Rank 4\n",
            "Love these glasses\n",
            "\n",
            "\n",
            "Rank 5\n",
            "Absolutely love these. Best fit, great quality.\n",
            "\n",
            "\n",
            "Rank 6\n",
            "What can I say? The picture does NOT do these justice! These are fantastic! They fit perfect, they are stylish!\n",
            "\n",
            "\n",
            "Rank 7\n",
            "Perfect gift for our daughter. Well made and a good value.\n",
            "\n",
            "\n",
            "Rank 8\n",
            "Like my glasses ALOT....pic doesn't do justice the glasses look way better in person...like having the case.  Checked these out in store and run from $40-$50.  So price is good.  Very happy with my glasses,  lens quality seems real good so far, I've only had them a short time,  but they seem well made :)!!!  They are so Cool!! B)\n",
            "Olo\n",
            "\n",
            "\n",
            "Rank 9\n",
            "These glasses are Amazing I Love Them!! Thanks So Much!!\n",
            "\n",
            "\n",
            "Rank 10\n",
            "LARGE but FABULOUS, \"STAR\" glasses. LOVE THEM\n",
            "\n",
            "\n"
          ]
        }
      ]
    },
    {
      "cell_type": "markdown",
      "source": [
        "Word Embeddings"
      ],
      "metadata": {
        "id": "jQ2NXaS6p97j"
      }
    },
    {
      "cell_type": "code",
      "source": [
        "import gensim\n",
        "import numpy as np\n",
        "from numpy.linalg import norm\n",
        "from gensim.test.utils import datapath, get_tmpfile\n",
        "from gensim.models import Word2Vec\n",
        "from gensim.models.word2vec import LineSentence"
      ],
      "metadata": {
        "id": "PAPmmnt8vX-y"
      },
      "execution_count": 196,
      "outputs": []
    },
    {
      "cell_type": "code",
      "source": [
        "# store lists of tokens that are pre-processed\n",
        "def store_metadata_embeddings(df_group):\n",
        "  ids = df_group['index']\n",
        "  text = df_group['reviewText']\n",
        "  summary = df_group['summary']\n",
        "  time = df_group['unixReviewTime']\n",
        "  vote = df_group['vote']\n",
        "\n",
        "  return {id: {'text': preprocess_doc(text[id]), 'summary': preprocess_doc(summary[id])} for id in ids}"
      ],
      "metadata": {
        "id": "Q9PyujA_EZzy"
      },
      "execution_count": 197,
      "outputs": []
    },
    {
      "cell_type": "code",
      "source": [
        "bag_of_word_embeddings = df.reset_index().groupby('asin').apply(store_metadata_embeddings).to_dict()"
      ],
      "metadata": {
        "id": "venqW4T6EPCz"
      },
      "execution_count": 198,
      "outputs": []
    },
    {
      "cell_type": "code",
      "source": [
        "# build list of lists of tokens for training of word embeddings \n",
        "lines = []\n",
        "\n",
        "for product_dict in bag_of_word_embeddings.values():\n",
        "  for review_dict in product_dict.values():\n",
        "    lines.append(review_dict['text'])\n",
        "    lines.append(review_dict['summary'])"
      ],
      "metadata": {
        "id": "x98a1HnHmIqG"
      },
      "execution_count": 199,
      "outputs": []
    },
    {
      "cell_type": "code",
      "source": [
        "# model = Word2Vec(lines)\n",
        "# word embedding model is trained to output vectors of size 100\n",
        "model = Word2Vec(\n",
        "    lines,\n",
        "    size=100,\n",
        "    min_count=3,  \n",
        "    sg = 1,       \n",
        "    window=7,\n",
        "    workers=4    \n",
        ")       "
      ],
      "metadata": {
        "id": "zgy0yhMdk8pK"
      },
      "execution_count": 200,
      "outputs": []
    },
    {
      "cell_type": "code",
      "source": [
        "# converts each token in the provided doc to a word embedding vector and calculates\n",
        "# the mean of all the vectors to return one vector representing\n",
        "# the word embedding for the doc\n",
        "def get_word_embeddings(doc):\n",
        "  embeddings = []\n",
        "  if len(doc) < 1:\n",
        "    return np.zeros(300)\n",
        "  else:\n",
        "    for word in doc:\n",
        "      if word in model.wv.vocab:\n",
        "        embeddings.append(model.wv.word_vec(word))\n",
        "      else:\n",
        "        embeddings.append(np.random.rand(100))\n",
        "    return np.mean(embeddings, axis=0)"
      ],
      "metadata": {
        "id": "ullbcli8n8OB"
      },
      "execution_count": 201,
      "outputs": []
    },
    {
      "cell_type": "code",
      "source": [
        "def cos_sim(a, b):\n",
        "  return np.dot(a, b)/(norm(a)*norm(b))\n",
        "\n",
        "# MODEL 3\n",
        "# Based on word embedding and vector space model using cosine similarity to compare vectors\n",
        "\n",
        "def word_embedding_rankings(product_id, query, num_results=10, summary_weight=0):\n",
        "  tokenized_query = preprocess_doc(query)\n",
        "  results = Counter()\n",
        "\n",
        "  for review_id in bag_of_word_embeddings[product_id]:\n",
        "    text_cs = cos_sim(np.array(get_word_embeddings(bag_of_word_embeddings[product_id][review_id]['text'])),np.array(get_word_embeddings(tokenized_query)))\n",
        "    summary_cs = cos_sim(np.array(get_word_embeddings(bag_of_word_embeddings[product_id][review_id]['summary'])),np.array(get_word_embeddings(tokenized_query)))\n",
        "\n",
        "    results[review_id] = ((1 - summary_weight) * text_cs) + (summary_weight * summary_cs)\n",
        "  \n",
        "  return results.most_common(num_results)"
      ],
      "metadata": {
        "id": "WV9Y1VIEG-Es"
      },
      "execution_count": 202,
      "outputs": []
    },
    {
      "cell_type": "code",
      "source": [
        "# Sample results\n",
        "word_embedding_rankings('B0097AJS2U', 'Do the glasses fit well?')"
      ],
      "metadata": {
        "colab": {
          "base_uri": "https://localhost:8080/"
        },
        "id": "wxM8ZG85Oqu8",
        "outputId": "79e295ec-7f8b-4359-9fd5-4f1bb29cecce"
      },
      "execution_count": 203,
      "outputs": [
        {
          "output_type": "execute_result",
          "data": {
            "text/plain": [
              "[(94093, 0.8823963403701782),\n",
              " (434957, 0.881686270236969),\n",
              " (434966, 0.8397279381752014),\n",
              " (94074, 0.8249606660818134),\n",
              " (94097, 0.7908575149952524),\n",
              " (94091, 0.7872361540794373),\n",
              " (434961, 0.7703776955604553),\n",
              " (434965, 0.7618000507354736),\n",
              " (94092, 0.7583695650100708),\n",
              " (94090, 0.756409227848053)]"
            ]
          },
          "metadata": {},
          "execution_count": 203
        }
      ]
    },
    {
      "cell_type": "code",
      "source": [
        "i = 0\n",
        "for (k,v) in word_embedding_rankings('B0097AJS2U', 'Do the glasses fit well?'):\n",
        "  i += 1\n",
        "  print(f'Rank {i}')\n",
        "  print(df.iloc[k]['reviewText'])\n",
        "  print('\\n')"
      ],
      "metadata": {
        "colab": {
          "base_uri": "https://localhost:8080/"
        },
        "id": "BFrbtsk3scpb",
        "outputId": "0916bfe4-7cc5-4b0b-e097-8352d579b3ca"
      },
      "execution_count": 204,
      "outputs": [
        {
          "output_type": "stream",
          "name": "stdout",
          "text": [
            "Rank 1\n",
            "Love these glasses, fits great, very well made\n",
            "\n",
            "\n",
            "Rank 2\n",
            "Wished they fit over glasses, other than that ok.\n",
            "\n",
            "\n",
            "Rank 3\n",
            "Love these glasses\n",
            "\n",
            "\n",
            "Rank 4\n",
            "Like my glasses ALOT....pic doesn't do justice the glasses look way better in person...like having the case.  Checked these out in store and run from $40-$50.  So price is good.  Very happy with my glasses,  lens quality seems real good so far, I've only had them a short time,  but they seem well made :)!!!  They are so Cool!! B)\n",
            "Olo\n",
            "\n",
            "\n",
            "Rank 5\n",
            "These glasses are gorgeous I always get compliments...come in a really nice zippered case. Fast shipping\n",
            "\n",
            "\n",
            "Rank 6\n",
            "These glasses are Amazing I Love Them!! Thanks So Much!!\n",
            "\n",
            "\n",
            "Rank 7\n",
            "Absolutely love these sunglasses, only ones I'll buy!!\n",
            "\n",
            "\n",
            "Rank 8\n",
            "LARGE but FABULOUS, \"STAR\" glasses. LOVE THEM\n",
            "\n",
            "\n",
            "Rank 9\n",
            "Love these. Fit and look great, was presently surprised to see they came in a nice case with a cleaning cloth. Received them faster than expected.\n",
            "\n",
            "\n",
            "Rank 10\n",
            "Love these glasses! So comfortable, well made and so beautiful! I have gotten several complements! I so recommend these!\n",
            "\n",
            "\n"
          ]
        }
      ]
    },
    {
      "cell_type": "markdown",
      "source": [
        "Evaluation Model"
      ],
      "metadata": {
        "id": "qF7M8HkJuZ4a"
      }
    },
    {
      "cell_type": "code",
      "source": [
        "from statistics import mean\n",
        "\n",
        "def average_precision_query(results, answers):\n",
        "  i = 0\n",
        "  num_relevant = 0\n",
        "  precisions= []\n",
        "  for (review_id, score) in results:\n",
        "    i += 1\n",
        "    if answers[review_id]:\n",
        "      num_relevant += 1\n",
        "      precisions.append(num_relevant/i)\n",
        "  if len(precisions) > 0:\n",
        "    return mean(precisions)\n",
        "  else:\n",
        "    return 0\n",
        "  \n",
        "\n",
        "def evaluate_map(model, summary_weight = 0):\n",
        "  map = []\n",
        "\n",
        "  # product 1 query 1\n",
        "  p1q1_results = model('B0097AJS2U', \"Do the glasses fit well?\", 10, summary_weight)\n",
        "  map.append(average_precision_query(p1q1_results, answers_q1_1))\n",
        "\n",
        "  # product 1 query 2\n",
        "  p1q2_results = model('B0097AJS2U', \"Are these glasses stylish?\", 10, summary_weight)\n",
        "  map.append(average_precision_query(p1q2_results, answers_q1_2))\n",
        "\n",
        "  # product 2 query 1\n",
        "  p2q1_results = model('B00IOHDIVO', \"Is it big enough to carry a lot of stuff?\", 10, summary_weight)\n",
        "  map.append(average_precision_query(p2q1_results, answers_q2_1))\n",
        "\n",
        "  # product 2 query 2\n",
        "  p2q2_results = model('B00IOHDIVO', \"Is the material good quality?\", 10, summary_weight)\n",
        "  map.append(average_precision_query(p2q2_results, answers_q2_2))\n",
        "\n",
        "  # product 3 query 1\n",
        "  p3q1_results = model('B00QV3OFMY', \"Does it rust or change color?\", 10, summary_weight)\n",
        "  map.append(average_precision_query(p3q1_results, answers_q3_1))\n",
        "\n",
        "  # product 3 query 2\n",
        "  p3q2_results = model('B00QV3OFMY', \"Does it last long without damage?\", 10, summary_weight)\n",
        "  map.append(average_precision_query(p3q2_results, answers_q3_2))\n",
        "\n",
        "  return mean(map)"
      ],
      "metadata": {
        "id": "VY37xRSDubwC"
      },
      "execution_count": 206,
      "outputs": []
    },
    {
      "cell_type": "code",
      "source": [
        "evaluate_map(search_reviews_laplace)"
      ],
      "metadata": {
        "colab": {
          "base_uri": "https://localhost:8080/"
        },
        "id": "QQUAUJlt4Ndy",
        "outputId": "7eba7f3f-ca2f-46e8-82a3-60448d908cee"
      },
      "execution_count": 207,
      "outputs": [
        {
          "output_type": "execute_result",
          "data": {
            "text/plain": [
              "0.6653659611992945"
            ]
          },
          "metadata": {},
          "execution_count": 207
        }
      ]
    },
    {
      "cell_type": "code",
      "source": [
        "evaluate_map(query_likelihood_model)"
      ],
      "metadata": {
        "colab": {
          "base_uri": "https://localhost:8080/"
        },
        "id": "8l2PLaFSB6hF",
        "outputId": "c1e77101-ff19-475a-f80f-c0de05985cc2"
      },
      "execution_count": 208,
      "outputs": [
        {
          "output_type": "execute_result",
          "data": {
            "text/plain": [
              "0.4017019400352734"
            ]
          },
          "metadata": {},
          "execution_count": 208
        }
      ]
    },
    {
      "cell_type": "code",
      "source": [
        "evaluate_map(word_embedding_rankings)"
      ],
      "metadata": {
        "colab": {
          "base_uri": "https://localhost:8080/"
        },
        "id": "3Z2pXR9FEqTv",
        "outputId": "0a7d98da-054f-43c9-d996-ba1a79556ce2"
      },
      "execution_count": 209,
      "outputs": [
        {
          "output_type": "execute_result",
          "data": {
            "text/plain": [
              "0.8141132842025699"
            ]
          },
          "metadata": {},
          "execution_count": 209
        }
      ]
    },
    {
      "cell_type": "markdown",
      "source": [
        "Evaluation with modified text vs. summary weights"
      ],
      "metadata": {
        "id": "1rNznYoPCpz8"
      }
    },
    {
      "cell_type": "code",
      "source": [
        "def range_with_floats(start, stop, step):\n",
        "    while stop > start:\n",
        "        yield start\n",
        "        start += step\n",
        "for i in range_with_floats(0.0, 0.6, 0.1):\n",
        "  print(f\"Summary weight - {round(i, 1)}\")\n",
        "  print(\"------------\")\n",
        "  print(f'Laplace model - {round(evaluate_map(search_reviews_laplace, i), 4)}')\n",
        "  print(f'Linear interpolation model - {round(evaluate_map(query_likelihood_model, i), 4)}')\n",
        "  print(f'Word embedding model - {round(evaluate_map(word_embedding_rankings, i), 4)}')\n",
        "  print ('\\n')\n"
      ],
      "metadata": {
        "colab": {
          "base_uri": "https://localhost:8080/"
        },
        "id": "XM8Wj2mbCuo-",
        "outputId": "b0fad03b-6174-44f3-c012-4964517bbf17"
      },
      "execution_count": 210,
      "outputs": [
        {
          "output_type": "stream",
          "name": "stdout",
          "text": [
            "Summary weight - 0.0\n",
            "------------\n",
            "Laplace model - 0.6654\n",
            "Linear interpolation model - 0.4017\n",
            "Word embedding model - 0.8094\n",
            "\n",
            "\n",
            "Summary weight - 0.1\n",
            "------------\n",
            "Laplace model - 0.6808\n",
            "Linear interpolation model - 0.4017\n",
            "Word embedding model - 0.8348\n",
            "\n",
            "\n",
            "Summary weight - 0.2\n",
            "------------\n",
            "Laplace model - 0.6889\n",
            "Linear interpolation model - 0.4017\n",
            "Word embedding model - 0.7923\n",
            "\n",
            "\n",
            "Summary weight - 0.3\n",
            "------------\n",
            "Laplace model - 0.6919\n",
            "Linear interpolation model - 0.4123\n",
            "Word embedding model - 0.7749\n",
            "\n",
            "\n",
            "Summary weight - 0.4\n",
            "------------\n",
            "Laplace model - 0.6919\n",
            "Linear interpolation model - 0.4053\n",
            "Word embedding model - 0.7621\n",
            "\n",
            "\n",
            "Summary weight - 0.5\n",
            "------------\n",
            "Laplace model - 0.69\n",
            "Linear interpolation model - 0.3923\n",
            "Word embedding model - 0.743\n",
            "\n",
            "\n"
          ]
        }
      ]
    },
    {
      "cell_type": "markdown",
      "source": [
        "N-grams"
      ],
      "metadata": {
        "id": "1-21PCY-sgqM"
      }
    },
    {
      "cell_type": "code",
      "source": [
        "def count_bigrams(document):\n",
        "  document_split = preprocess_doc(document)\n",
        "  bigrams = []\n",
        "\n",
        "  bigrams.append(\"%s, \" + document_split[0])\n",
        "  for i in range(len(document_split) - 2):\n",
        "    bigrams.append(document_split[i] + \", \" + document_split[i+1])\n",
        "\n",
        "  bigrams.append(document_split[len(document_split) - 1] + \", %s\")\n",
        "\n",
        "  return Counter(bigrams)"
      ],
      "metadata": {
        "id": "x4GvumppsheC"
      },
      "execution_count": 211,
      "outputs": []
    },
    {
      "cell_type": "code",
      "source": [
        "# Convert the relevant information acquired from the dataset in a dictionary that is easier to manipulate\n",
        "# The final structure look something like:\n",
        "# product_id:\n",
        "#   - review_id:\n",
        "#     - text: bag of words\n",
        "#     - summary: bag of words\n",
        "#     - time: time\n",
        "#     - vote: number of helpful votes\n",
        "\n",
        "def store_metadata_bigrams(df_group):\n",
        "  ids = df_group['index']\n",
        "  text = df_group['reviewText']\n",
        "  summary = df_group['summary']\n",
        "  time = df_group['unixReviewTime']\n",
        "  vote = df_group['vote']\n",
        "\n",
        "  return {id: {'text': count_bigrams(text[id]), 'summary': count_bigrams(summary[id]), 'time': time[id], 'vote': vote[id]} for id in ids}"
      ],
      "metadata": {
        "id": "er9kU6-D0Xwe"
      },
      "execution_count": 212,
      "outputs": []
    },
    {
      "cell_type": "code",
      "source": [
        "bag_of_words_bigrams = df.reset_index().groupby('asin').apply(store_metadata).to_dict()"
      ],
      "metadata": {
        "id": "ZHvJbyNfs4cS"
      },
      "execution_count": 213,
      "outputs": []
    },
    {
      "cell_type": "code",
      "source": [
        "# Iterate through and score the reviews of the given product\n",
        "# Return the top results \n",
        "def search_reviews_bigrams(product_id, query, num_results=10, summary_weight = 0.5):\n",
        "  results = Counter()\n",
        "  query_term_count = count_bigrams(query)\n",
        "\n",
        "  V = len(set([term for i in bag_of_words[product_id].keys()\n",
        "   for term in bag_of_words[product_id][i]['summary'] + bag_of_words[product_id][i]['text']]))\n",
        "  \n",
        "  product_reviews = bag_of_words[product_id]\n",
        "  for review_id in product_reviews:\n",
        "\n",
        "    score = 0\n",
        "    for term in query_term_count:\n",
        "      score += ((1 - summary_weight) * (query_term_count[term] * query_likelihood_laplace(product_id, review_id, 'text', term, V)))\n",
        "      score += (summary_weight * (query_term_count[term] * query_likelihood_laplace(product_id, review_id, 'summary', term, V)))\n",
        "      # score += vote\n",
        "      # score += f(time)\n",
        "\n",
        "    results[review_id] = score\n",
        "    \n",
        "  return results.most_common(num_results)"
      ],
      "metadata": {
        "id": "h20rEQDL0dAy"
      },
      "execution_count": 218,
      "outputs": []
    },
    {
      "cell_type": "code",
      "source": [
        "evaluate_map(search_reviews_bigrams)"
      ],
      "metadata": {
        "colab": {
          "base_uri": "https://localhost:8080/"
        },
        "id": "O6S4vUnV09eX",
        "outputId": "f6acc771-a028-4905-9268-921f3218ed2d"
      },
      "execution_count": 219,
      "outputs": [
        {
          "output_type": "execute_result",
          "data": {
            "text/plain": [
              "0.10246913580246914"
            ]
          },
          "metadata": {},
          "execution_count": 219
        }
      ]
    },
    {
      "cell_type": "markdown",
      "source": [
        "Model Results and Evaluation"
      ],
      "metadata": {
        "id": "fwKIwuanpqpZ"
      }
    },
    {
      "cell_type": "markdown",
      "source": [
        "lowercase and punctuation\n",
        "\n",
        "removing stopwords\n",
        "\n",
        "laplace model - 0.6900\n",
        "\n",
        "linear interpolation model - 0.402\n",
        "\n",
        "word embedding model - 0.826\n",
        "\n",
        "bigram model - 0.017\n",
        "\n",
        "Summary weight - 0.0\n",
        "------------\n",
        "Laplace model - 0.6654\n",
        "\n",
        "Linear interpolation model - 0.4017\n",
        "\n",
        "Word embedding model - 0.8286\n",
        "\n",
        "\n",
        "Summary weight - 0.1\n",
        "------------\n",
        "Laplace model - 0.6808\n",
        "\n",
        "Linear interpolation model - 0.4017\n",
        "\n",
        "Word embedding model - 0.8347\n",
        "\n",
        "\n",
        "Summary weight - 0.2\n",
        "------------\n",
        "Laplace model - 0.6889\n",
        "\n",
        "Linear interpolation model - 0.4017\n",
        "\n",
        "Word embedding model - 0.7922\n",
        "\n",
        "\n",
        "Summary weight - 0.3\n",
        "------------\n",
        "Laplace model - 0.6919\n",
        "\n",
        "Linear interpolation model - 0.4123\n",
        "\n",
        "Word embedding model - 0.7867\n",
        "\n",
        "\n",
        "Summary weight - 0.4\n",
        "------------\n",
        "Laplace model - 0.6919\n",
        "\n",
        "Linear interpolation model - 0.4053\n",
        "\n",
        "Word embedding model - 0.7655\n",
        "\n",
        "\n",
        "Summary weight - 0.5\n",
        "------------\n",
        "Laplace model - 0.69\n",
        "\n",
        "Linear interpolation model - 0.3923\n",
        "\n",
        "Word embedding model - 0.7494\n",
        "\n",
        "--------------------------\n",
        "\n",
        "lowercase and punctuation\n",
        "\n",
        "removing stopwords\n",
        "\n",
        "stemming tokens\n",
        "\n",
        "laplace model - 0.6803\n",
        "\n",
        "linear interpolation model - 0.398\n",
        "\n",
        "word embedding model - 0.8451\n",
        "\n",
        "bigram model - 0.0796\n",
        "\n",
        "Summary weight - 0.0\n",
        "------------\n",
        "Laplace model - 0.6529\n",
        "\n",
        "Linear interpolation model - 0.398\n",
        "\n",
        "Word embedding model - 0.832\n",
        "\n",
        "\n",
        "Summary weight - 0.1\n",
        "------------\n",
        "Laplace model - 0.6721\n",
        "\n",
        "Linear interpolation model - 0.398\n",
        "\n",
        "Word embedding model - 0.8796\n",
        "\n",
        "\n",
        "Summary weight - 0.2\n",
        "------------\n",
        "Laplace model - 0.684\n",
        "\n",
        "Linear interpolation model - 0.398\n",
        "\n",
        "Word embedding model - 0.8408\n",
        "\n",
        "\n",
        "Summary weight - 0.3\n",
        "------------\n",
        "Laplace model - 0.6826\n",
        "\n",
        "Linear interpolation model - 0.3961\n",
        "\n",
        "Word embedding model - 0.8222\n",
        "\n",
        "\n",
        "Summary weight - 0.4\n",
        "------------\n",
        "Laplace model - 0.6826\n",
        "\n",
        "Linear interpolation model - 0.4011\n",
        "\n",
        "Word embedding model - 0.8138\n",
        "\n",
        "\n",
        "Summary weight - 0.5\n",
        "------------\n",
        "Laplace model - 0.6803\n",
        "\n",
        "Linear interpolation model - 0.4011\n",
        "\n",
        "Word embedding model - 0.7986\n",
        "\n",
        "-----------\n",
        "\n",
        "lowercase and punctuation\n",
        "\n",
        "stemming tokens\n",
        "\n",
        "laplace model - 0.7723\n",
        "\n",
        "linear interpolation model - 0.4085\n",
        "\n",
        "word embedding model - 0.8044\n",
        "\n",
        "bigram model - 0.014\n",
        "\n",
        "Summary weight - 0.0\n",
        "------------\n",
        "Laplace model - 0.8006\n",
        "\n",
        "Linear interpolation model - 0.4085\n",
        "\n",
        "Word embedding model - 0.8044\n",
        "\n",
        "\n",
        "Summary weight - 0.1\n",
        "------------\n",
        "Laplace model - 0.7847\n",
        "\n",
        "Linear interpolation model - 0.4085\n",
        "\n",
        "Word embedding model - 0.7693\n",
        "\n",
        "\n",
        "Summary weight - 0.2\n",
        "------------\n",
        "Laplace model - 0.7882\n",
        "\n",
        "Linear interpolation model - 0.4085\n",
        "\n",
        "Word embedding model - 0.7594\n",
        "\n",
        "\n",
        "Summary weight - 0.3\n",
        "------------\n",
        "Laplace model - 0.8091\n",
        "\n",
        "Linear interpolation model - 0.4085\n",
        "\n",
        "Word embedding model - 0.7704\n",
        "\n",
        "\n",
        "Summary weight - 0.4\n",
        "------------\n",
        "Laplace model - 0.8034\n",
        "\n",
        "Linear interpolation model - 0.4085\n",
        "\n",
        "Word embedding model - 0.8425\n",
        "\n",
        "\n",
        "Summary weight - 0.5\n",
        "------------\n",
        "Laplace model - 0.7723\n",
        "\n",
        "Linear interpolation model - 0.4085\n",
        "\n",
        "Word embedding model - 0.8131\n"
      ],
      "metadata": {
        "id": "p6S7skr-rGdp"
      }
    },
    {
      "cell_type": "code",
      "source": [],
      "metadata": {
        "id": "LhAwQFEjFffp"
      },
      "execution_count": null,
      "outputs": []
    }
  ]
}